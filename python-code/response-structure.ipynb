{
 "cells": [
  {
   "cell_type": "code",
   "execution_count": 1,
   "metadata": {},
   "outputs": [],
   "source": [
    "import os\n",
    "from openai import OpenAI \n",
    "\n",
    "# Creating a OpenAI Instance\n",
    "client = OpenAI()\n",
    "\n",
    "# If Environment Variables are not set on OS\n",
    "# if the ENV variables are in .env file then uncomment below two lines\n",
    "# If the environment variables are set then no need\n",
    "#from dotenv import load_dotenv\n",
    "#load_dotenv()\n",
    "#client.openai_apikey = os.getenv('OPENAI_API_KEY')\n",
    "\n",
    "# Setting a model\n",
    "model = 'gpt-4o-mini'\n",
    "\n",
    "completion_response = client.chat.completions.create(\n",
    "    model=model, # Setting the model\n",
    "    messages=[\n",
    "        {\n",
    "            'role':'system',\n",
    "            'content':'You are a helpful assistant'\n",
    "        },\n",
    "        {\n",
    "            'role':'user',\n",
    "            'content':'Write a poem about python programming'\n",
    "        }\n",
    "    ]\n",
    ")\n",
    "\n",
    "\n"
   ]
  },
  {
   "cell_type": "code",
   "execution_count": 2,
   "metadata": {},
   "outputs": [
    {
     "name": "stdout",
     "output_type": "stream",
     "text": [
      "ChatCompletion(id='chatcmpl-AONZwKkIiMAoP8d0oUxXUgAMXKUGz', choices=[Choice(finish_reason='stop', index=0, logprobs=None, message=ChatCompletionMessage(content='In the land of code where logic flows,  \\nA serpent glides where the data grows,  \\nWith elegance wrapped in a syntactic charm,  \\nPython weaves magic, a coder\\'s arm.  \\n\\nIndentations dance like notes in a song,  \\nIn the realm of algorithms where all belong.  \\nVariables whisper, \"Assign me a name,\"  \\nIn this vibrant world, all functions proclaim.  \\n\\nModules and libraries, treasures untold,  \\nFrom NumPy\\'s arrays to Pandas\\' hold.  \\nDataframes flourish, insights arise,  \\nWith matplotlib\\'s canvas, we visualize.  \\n\\nLoops and conditions in symphonic grace,  \\nA while, a for, they find their place.  \\nIn the heart of the code, logic takes flight,  \\nDebugging the shadows, until it feels right.  \\n\\nOh, the elegance of code so sublime,  \\nRefactoring here, optimizing time.  \\nFrom scripts in the shell to apps in the sky,  \\nWith Django and Flask, we reach for the high.  \\n\\nCommunity thriving with knowledge to share,  \\nIn forums and meetups, a bond we declare.  \\nFrom Python\\'s embrace, a journey begins,  \\nIn the tapestry woven, where curiosity spins.  \\n\\nSo here’s to the language, both simple and grand,  \\nA tool for the dreamers who dare to take stand.  \\nIn every indented line, a world to explore,  \\nWith Python, we create, and together, we soar.  ', refusal=None, role='assistant', audio=None, function_call=None, tool_calls=None))], created=1730373872, model='gpt-4o-mini-2024-07-18', object='chat.completion', service_tier=None, system_fingerprint='fp_8bfc6a7dc2', usage=CompletionUsage(completion_tokens=296, prompt_tokens=22, total_tokens=318, completion_tokens_details=CompletionTokensDetails(audio_tokens=None, reasoning_tokens=0), prompt_tokens_details=PromptTokensDetails(audio_tokens=None, cached_tokens=0)))\n"
     ]
    }
   ],
   "source": [
    "print(completion_response)"
   ]
  },
  {
   "cell_type": "code",
   "execution_count": 3,
   "metadata": {},
   "outputs": [
    {
     "name": "stdout",
     "output_type": "stream",
     "text": [
      "Choice(finish_reason='stop', index=0, logprobs=None, message=ChatCompletionMessage(content='In the land of code where logic flows,  \\nA serpent glides where the data grows,  \\nWith elegance wrapped in a syntactic charm,  \\nPython weaves magic, a coder\\'s arm.  \\n\\nIndentations dance like notes in a song,  \\nIn the realm of algorithms where all belong.  \\nVariables whisper, \"Assign me a name,\"  \\nIn this vibrant world, all functions proclaim.  \\n\\nModules and libraries, treasures untold,  \\nFrom NumPy\\'s arrays to Pandas\\' hold.  \\nDataframes flourish, insights arise,  \\nWith matplotlib\\'s canvas, we visualize.  \\n\\nLoops and conditions in symphonic grace,  \\nA while, a for, they find their place.  \\nIn the heart of the code, logic takes flight,  \\nDebugging the shadows, until it feels right.  \\n\\nOh, the elegance of code so sublime,  \\nRefactoring here, optimizing time.  \\nFrom scripts in the shell to apps in the sky,  \\nWith Django and Flask, we reach for the high.  \\n\\nCommunity thriving with knowledge to share,  \\nIn forums and meetups, a bond we declare.  \\nFrom Python\\'s embrace, a journey begins,  \\nIn the tapestry woven, where curiosity spins.  \\n\\nSo here’s to the language, both simple and grand,  \\nA tool for the dreamers who dare to take stand.  \\nIn every indented line, a world to explore,  \\nWith Python, we create, and together, we soar.  ', refusal=None, role='assistant', audio=None, function_call=None, tool_calls=None))\n"
     ]
    }
   ],
   "source": [
    "print(completion_response.choices[0])"
   ]
  },
  {
   "cell_type": "code",
   "execution_count": 4,
   "metadata": {},
   "outputs": [
    {
     "name": "stdout",
     "output_type": "stream",
     "text": [
      "ChatCompletionMessage(content='In the land of code where logic flows,  \\nA serpent glides where the data grows,  \\nWith elegance wrapped in a syntactic charm,  \\nPython weaves magic, a coder\\'s arm.  \\n\\nIndentations dance like notes in a song,  \\nIn the realm of algorithms where all belong.  \\nVariables whisper, \"Assign me a name,\"  \\nIn this vibrant world, all functions proclaim.  \\n\\nModules and libraries, treasures untold,  \\nFrom NumPy\\'s arrays to Pandas\\' hold.  \\nDataframes flourish, insights arise,  \\nWith matplotlib\\'s canvas, we visualize.  \\n\\nLoops and conditions in symphonic grace,  \\nA while, a for, they find their place.  \\nIn the heart of the code, logic takes flight,  \\nDebugging the shadows, until it feels right.  \\n\\nOh, the elegance of code so sublime,  \\nRefactoring here, optimizing time.  \\nFrom scripts in the shell to apps in the sky,  \\nWith Django and Flask, we reach for the high.  \\n\\nCommunity thriving with knowledge to share,  \\nIn forums and meetups, a bond we declare.  \\nFrom Python\\'s embrace, a journey begins,  \\nIn the tapestry woven, where curiosity spins.  \\n\\nSo here’s to the language, both simple and grand,  \\nA tool for the dreamers who dare to take stand.  \\nIn every indented line, a world to explore,  \\nWith Python, we create, and together, we soar.  ', refusal=None, role='assistant', audio=None, function_call=None, tool_calls=None)\n"
     ]
    }
   ],
   "source": [
    "print(completion_response.choices[0].message)"
   ]
  },
  {
   "cell_type": "code",
   "execution_count": 5,
   "metadata": {},
   "outputs": [],
   "source": [
    "content = completion_response.choices[0].message.content\n",
    "role = completion_response.choices[0].message.role\n",
    "function_calling = completion_response.choices[0].message.function_call\n",
    "tools_calling = completion_response.choices[0].message.tool_calls\n",
    "\n"
   ]
  },
  {
   "cell_type": "code",
   "execution_count": null,
   "metadata": {},
   "outputs": [
    {
     "name": "stdout",
     "output_type": "stream",
     "text": [
      "CompletionUsage(completion_tokens=296, prompt_tokens=22, total_tokens=318, completion_tokens_details=CompletionTokensDetails(audio_tokens=None, reasoning_tokens=0), prompt_tokens_details=PromptTokensDetails(audio_tokens=None, cached_tokens=0))\n"
     ]
    }
   ],
   "source": [
    "usage_details = completion_response.usage\n",
    "usage_details\n",
    "\n",
    "print(usage_details)"
   ]
  },
  {
   "cell_type": "code",
   "execution_count": 7,
   "metadata": {},
   "outputs": [],
   "source": [
    "import json \n",
    "\n",
    "message = json.loads(\n",
    "    completion_response.choices[0].json()\n",
    ")\n",
    "usage_details = json.loads(\n",
    "    completion_response.usage.json()\n",
    ")"
   ]
  },
  {
   "cell_type": "code",
   "execution_count": 8,
   "metadata": {},
   "outputs": [
    {
     "name": "stdout",
     "output_type": "stream",
     "text": [
      "{'finish_reason': 'stop', 'index': 0, 'logprobs': None, 'message': {'content': 'In the land of code where logic flows,  \\nA serpent glides where the data grows,  \\nWith elegance wrapped in a syntactic charm,  \\nPython weaves magic, a coder\\'s arm.  \\n\\nIndentations dance like notes in a song,  \\nIn the realm of algorithms where all belong.  \\nVariables whisper, \"Assign me a name,\"  \\nIn this vibrant world, all functions proclaim.  \\n\\nModules and libraries, treasures untold,  \\nFrom NumPy\\'s arrays to Pandas\\' hold.  \\nDataframes flourish, insights arise,  \\nWith matplotlib\\'s canvas, we visualize.  \\n\\nLoops and conditions in symphonic grace,  \\nA while, a for, they find their place.  \\nIn the heart of the code, logic takes flight,  \\nDebugging the shadows, until it feels right.  \\n\\nOh, the elegance of code so sublime,  \\nRefactoring here, optimizing time.  \\nFrom scripts in the shell to apps in the sky,  \\nWith Django and Flask, we reach for the high.  \\n\\nCommunity thriving with knowledge to share,  \\nIn forums and meetups, a bond we declare.  \\nFrom Python\\'s embrace, a journey begins,  \\nIn the tapestry woven, where curiosity spins.  \\n\\nSo here’s to the language, both simple and grand,  \\nA tool for the dreamers who dare to take stand.  \\nIn every indented line, a world to explore,  \\nWith Python, we create, and together, we soar.  ', 'refusal': None, 'role': 'assistant', 'audio': None, 'function_call': None, 'tool_calls': None}}\n"
     ]
    }
   ],
   "source": [
    "print(message)"
   ]
  },
  {
   "cell_type": "code",
   "execution_count": 9,
   "metadata": {},
   "outputs": [
    {
     "name": "stdout",
     "output_type": "stream",
     "text": [
      "{'completion_tokens': 296, 'prompt_tokens': 22, 'total_tokens': 318, 'completion_tokens_details': {'audio_tokens': None, 'reasoning_tokens': 0}, 'prompt_tokens_details': {'audio_tokens': None, 'cached_tokens': 0}}\n"
     ]
    }
   ],
   "source": [
    "print(usage_details)"
   ]
  },
  {
   "cell_type": "code",
   "execution_count": null,
   "metadata": {},
   "outputs": [],
   "source": []
  }
 ],
 "metadata": {
  "kernelspec": {
   "display_name": "Python 3",
   "language": "python",
   "name": "python3"
  },
  "language_info": {
   "codemirror_mode": {
    "name": "ipython",
    "version": 3
   },
   "file_extension": ".py",
   "mimetype": "text/x-python",
   "name": "python",
   "nbconvert_exporter": "python",
   "pygments_lexer": "ipython3",
   "version": "3.13.0"
  }
 },
 "nbformat": 4,
 "nbformat_minor": 2
}
